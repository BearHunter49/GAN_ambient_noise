{
  "nbformat": 4,
  "nbformat_minor": 0,
  "metadata": {
    "colab": {
      "name": "gan_test.ipynb",
      "provenance": [],
      "collapsed_sections": [],
      "authorship_tag": "ABX9TyMJ9wkjfOqAhluQsjRXYOUu",
      "include_colab_link": true
    },
    "kernelspec": {
      "name": "python3",
      "display_name": "Python 3"
    },
    "accelerator": "GPU"
  },
  "cells": [
    {
      "cell_type": "markdown",
      "metadata": {
        "id": "view-in-github",
        "colab_type": "text"
      },
      "source": [
        "<a href=\"https://colab.research.google.com/github/BearHunter49/ambiguent_noise_GAN/blob/master/gan_test.ipynb\" target=\"_parent\"><img src=\"https://colab.research.google.com/assets/colab-badge.svg\" alt=\"Open In Colab\"/></a>"
      ]
    },
    {
      "cell_type": "code",
      "metadata": {
        "id": "HC0PdWHeQhvH",
        "colab_type": "code",
        "colab": {}
      },
      "source": [
        "import matplotlib.pylab as plt"
      ],
      "execution_count": 0,
      "outputs": []
    },
    {
      "cell_type": "code",
      "metadata": {
        "id": "_IewOkK5CQjj",
        "colab_type": "code",
        "colab": {}
      },
      "source": [
        "import librosa\n",
        "import numpy as np\n",
        "\n",
        "DATA_DIR = \"drive/My Drive/Colab Notebooks/GAN/\"\n",
        "\n"
      ],
      "execution_count": 0,
      "outputs": []
    },
    {
      "cell_type": "code",
      "metadata": {
        "id": "Suaz7G0lNyZE",
        "colab_type": "code",
        "colab": {}
      },
      "source": [
        "wav, sr = librosa.load(DATA_DIR + \"Endless+Love.mp3\", sr=16000, duration=1)\n",
        "print('sr: ', sr)\n",
        "print('wav shape: ', wav.shape)\n"
      ],
      "execution_count": 0,
      "outputs": []
    },
    {
      "cell_type": "code",
      "metadata": {
        "id": "K0rKVx6kQCom",
        "colab_type": "code",
        "colab": {}
      },
      "source": [
        "print(type(sr))\n",
        "print(type(wav))"
      ],
      "execution_count": 0,
      "outputs": []
    },
    {
      "cell_type": "code",
      "metadata": {
        "id": "eBvNzBurQKLW",
        "colab_type": "code",
        "colab": {}
      },
      "source": [
        "time = wav.shape[0] / float(sr)\n",
        "print(time)"
      ],
      "execution_count": 0,
      "outputs": []
    },
    {
      "cell_type": "code",
      "metadata": {
        "id": "yGTp2n5mQVIM",
        "colab_type": "code",
        "colab": {}
      },
      "source": [
        "plt.plot(wav)"
      ],
      "execution_count": 0,
      "outputs": []
    },
    {
      "cell_type": "code",
      "metadata": {
        "id": "DktDU38eRCaA",
        "colab_type": "code",
        "colab": {}
      },
      "source": [
        "time_x = np.linspace(0, len(wav)/sr, len(wav))\n",
        "print(time_x[:50])"
      ],
      "execution_count": 0,
      "outputs": []
    },
    {
      "cell_type": "code",
      "metadata": {
        "id": "nOAz7zFwRbf1",
        "colab_type": "code",
        "colab": {}
      },
      "source": [
        "fig, ax = plt.subplots()\n",
        "ax.plot(time_x, wav, label='wave form')\n",
        "ax.set_ylabel(\"Amplitude\")\n",
        "ax.set_xlabel(\"Time [s]\")\n",
        "plt.title(\"title\")\n",
        "plt.show()"
      ],
      "execution_count": 0,
      "outputs": []
    },
    {
      "cell_type": "code",
      "metadata": {
        "id": "KsKF-hjZU_5a",
        "colab_type": "code",
        "colab": {}
      },
      "source": [
        "# 음성 자르기\n",
        "half_wav = wav[:8000]\n",
        "plt.plot(half_wav)\n",
        "plt.show()"
      ],
      "execution_count": 0,
      "outputs": []
    },
    {
      "cell_type": "code",
      "metadata": {
        "id": "tDEccQBLVYzB",
        "colab_type": "code",
        "colab": {}
      },
      "source": [
        "librosa.output.write_wav(DATA_DIR + 'result_file.wav', half_wav, sr)"
      ],
      "execution_count": 0,
      "outputs": []
    }
  ]
}